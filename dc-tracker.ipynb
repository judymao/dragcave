{
 "cells": [
  {
   "cell_type": "code",
   "execution_count": 1,
   "id": "a952181a",
   "metadata": {},
   "outputs": [],
   "source": [
    "from json import load\n",
    "import random\n",
    "\n",
    "import time\n",
    "from time import sleep\n",
    "from datetime import datetime\n",
    "\n",
    "from bs4 import BeautifulSoup\n",
    "from robobrowser import RoboBrowser\n",
    "from openpyxl import load_workbook, Workbook\n",
    "import lxml\n",
    "\n",
    "import pandas as pd"
   ]
  },
  {
   "cell_type": "code",
   "execution_count": 2,
   "id": "be914ad9",
   "metadata": {},
   "outputs": [],
   "source": [
    "# --- Retrieve habitats that are to be searched --- #\n",
    "HABITAT = {\n",
    "    'volcano': 6,\n",
    "    'alpine': 5,\n",
    "    'jungle': 4,\n",
    "    'forest': 3,\n",
    "    'desert': 2,\n",
    "    'coast': 1\n",
    "}\n",
    "\n",
    "habitats = list(HABITAT.keys())"
   ]
  },
  {
   "cell_type": "code",
   "execution_count": 3,
   "id": "dcd8d7c9",
   "metadata": {},
   "outputs": [],
   "source": [
    "# --- Retrieve credentials --- #\n",
    "try:\n",
    "    f = open('secrets.json', 'r')\n",
    "    data = load(f)\n",
    "    f.close()\n",
    "    username = data['username']\n",
    "    password = data['password']\n",
    "except Exception as e:\n",
    "    if type(e) == FileNotFoundError:\n",
    "        print('ERROR: Secrets.json file not found.')\n",
    "    else:\n",
    "        print('ERROR: Failed to retrieve credentials. '\n",
    "              + 'Check for syntax errors in your secrets.json.')\n",
    "    exit(0)"
   ]
  },
  {
   "cell_type": "code",
   "execution_count": 4,
   "id": "84ddc22a",
   "metadata": {},
   "outputs": [],
   "source": [
    "# --- Retrieve egg descriptions --- #\n",
    "EGGS = {}\n",
    "try:\n",
    "    f = open('eggs.txt', 'r', encoding='utf8')\n",
    "    lines = f.read().splitlines()\n",
    "    f.close()\n",
    "\n",
    "    # File must not be empty\n",
    "    if len(lines) == 0:\n",
    "        raise Exception('File Empty')\n",
    "    for i in lines:\n",
    "        d = i.lower().replace('.', '').strip().split('=')\n",
    "        # Append to dictionary with the description as entry\n",
    "        EGGS[d[0]] = d[1]\n",
    "\n",
    "except Exception as e:\n",
    "    if type(e) == FileNotFoundError:\n",
    "        print('ERROR: eggs.txt file not found.')\n",
    "    else:\n",
    "        print('ERROR:', e)\n",
    "    exit(0)"
   ]
  },
  {
   "cell_type": "code",
   "execution_count": 5,
   "id": "2b489181",
   "metadata": {},
   "outputs": [
    {
     "name": "stdout",
     "output_type": "stream",
     "text": [
      "-- SUCCESSFUL AUTHENTICATION --\n"
     ]
    }
   ],
   "source": [
    "# --- Authentication --- #\n",
    "try:\n",
    "    browser = RoboBrowser(parser='html.parser')\n",
    "    browser.open('https://dragcave.net/')\n",
    "    form = browser.get_form()\n",
    "    form['username'] = username\n",
    "    form['password'] = password\n",
    "    browser.submit_form(form)\n",
    "    print(\"-- SUCCESSFUL AUTHENTICATION --\")\n",
    "\n",
    "except:\n",
    "    print('Failed to authenticate. Check your credentials or Dragon Cave status')\n",
    "    exit(0)\n"
   ]
  },
  {
   "cell_type": "code",
   "execution_count": 6,
   "id": "1524afe0",
   "metadata": {},
   "outputs": [
    {
     "name": "stdout",
     "output_type": "stream",
     "text": [
      "-- INITIALIZING TRACKER --\n"
     ]
    }
   ],
   "source": [
    "# --- Initialization --- #\n",
    "biomes = {}\n",
    "stats = {}\n",
    "\n",
    "print('-- INITIALIZING TRACKER --')\n",
    "for h in habitats:\n",
    "    # Initialize biomes\n",
    "    biomes[h] = []\n",
    "    stats[h] = {}\n",
    "\n",
    "    # Open and parse habitat\n",
    "    browser.open('https://dragcave.net/locations/' + str(HABITAT[h]))\n",
    "    soup = BeautifulSoup(str(browser.parsed()), features='html.parser')\n",
    "    cave = (soup.find('div', class_='eggs')).findAll('div')\n",
    "\n",
    "    # Search available egg(s) in current habitat.\n",
    "    for egg in cave:\n",
    "        eggCode = egg.find('a').get('href')[-5:]\n",
    "        eggDesc = egg.find('span').text.lower().replace('.', '')\n",
    "\n",
    "        if eggDesc in EGGS:\n",
    "            breed = EGGS[eggDesc]\n",
    "        else:\n",
    "            breed = 'other'\n",
    "\n",
    "        # Update biomes and stats\n",
    "        biomes[h].append(eggCode)\n",
    "\n",
    "        if breed not in stats[h]:\n",
    "            stats[h][breed] = 0\n",
    "\n",
    "        stats[h][breed] += 1"
   ]
  },
  {
   "cell_type": "code",
   "execution_count": 25,
   "id": "94198738",
   "metadata": {},
   "outputs": [],
   "source": [
    "# Runs while for a set amt of time\n",
    "run_length = 12  # Number of hours to run\n",
    "start_time = time.time()\n",
    "remaining_time = run_length\n",
    "filename = f'results/{datetime.now().date()}_{datetime.now().hour}:00_dc-stats_runlen-{run_length}.xlsx'"
   ]
  },
  {
   "cell_type": "code",
   "execution_count": null,
   "id": "9ebd297f",
   "metadata": {},
   "outputs": [
    {
     "name": "stdout",
     "output_type": "stream",
     "text": [
      "-- RUNNING TRACKER --\n",
      "Started at 2021-06-29 21:17:53.487539. Running for 12 hour(s).\n",
      "------ silver (CYQY4) found in alpine @ 2021-06-29 21:50:02.452231 ------\n",
      "1 hour(s) have passed. 11 hour(s) left. Saving stats 2021-06-29 22:17:53.816623.\n",
      "2 hour(s) have passed. 10 hour(s) left. Saving stats 2021-06-29 23:17:54.015807.\n",
      "3 hour(s) have passed. 9 hour(s) left. Saving stats 2021-06-30 00:17:54.668591.\n",
      "4 hour(s) have passed. 8 hour(s) left. Saving stats 2021-06-30 01:17:54.877265.\n"
     ]
    }
   ],
   "source": [
    "# --- Execution --- #\n",
    "print('-- RUNNING TRACKER --')\n",
    "print(f'Started at {datetime.now()}. Running for {run_length} hour(s).')\n",
    "\n",
    "while remaining_time > 0:\n",
    "    for h in habitats:\n",
    "        # Open and parse habitat\n",
    "        try:\n",
    "            browser.open('https://dragcave.net/locations/' + str(HABITAT[h]))\n",
    "            soup = BeautifulSoup(str(browser.parsed()), features='html.parser')\n",
    "            if soup.find('div', class_='eggs') is None:\n",
    "                print(f\"Soup not found {datetime.now()}.\")\n",
    "                break\n",
    "\n",
    "            cave = soup.find('div', class_='eggs').findAll('div')\n",
    "\n",
    "            codeList = []\n",
    "            hour = datetime.now().hour\n",
    "\n",
    "            # Search available egg(s) in current habitat.\n",
    "            for egg in cave:\n",
    "                eggCode = egg.find('a').get('href')[-5:]\n",
    "                eggDesc = egg.find('span').text.lower().replace('.', '')\n",
    "\n",
    "                codeList.append(eggCode)\n",
    "\n",
    "                if eggCode not in biomes[h]:\n",
    "\n",
    "                    if eggDesc in EGGS:\n",
    "                        breed = EGGS[eggDesc]\n",
    "                    else:\n",
    "                        breed = 'other'\n",
    "\n",
    "                    if breed in ('gold', 'silver', 'staterae'):\n",
    "                        print(f'------ {breed} ({eggCode}) found in {h} @ {datetime.now()} ------')\n",
    "\n",
    "                    if breed not in stats[h]:\n",
    "                        stats[h][breed] = 0\n",
    "\n",
    "                    stats[h][breed] += 1\n",
    "\n",
    "            # Update biomes\n",
    "            biomes[h] = codeList\n",
    "\n",
    "        except Exception as e:\n",
    "            print(\"Error encountered:\", e)\n",
    "            print(\"Time remaining:\", remaining_time)\n",
    "            pass\n",
    "\n",
    "    time_elapsed = time.time() - start_time\n",
    "    if time_elapsed >= 60*60:\n",
    "        remaining_time -= 1\n",
    "        start_time = time.time()\n",
    "        \n",
    "        print(f'{run_length - remaining_time} hour(s) have passed. {remaining_time} hour(s) left. Saving stats {datetime.now()}.')\n",
    "        stats_df = pd.DataFrame.from_dict({i: stats[i] for i in stats.keys()}, orient='index').T\n",
    "\n",
    "        if remaining_time == run_length - 1:\n",
    "            writer = pd.ExcelWriter(filename, engine='xlsxwriter')\n",
    "\n",
    "        if remaining_time == run_length - 2:\n",
    "            writer = pd.ExcelWriter(filename, engine='openpyxl', mode='a')\n",
    "            # file should now exist (created when hrs_elapsed == 1)\n",
    "            book = load_workbook(filename)\n",
    "            writer.book = book\n",
    "\n",
    "        stats_df.to_excel(writer, sheet_name=str(datetime.now().hour-1))\n",
    "        writer.save()\n",
    "\n",
    "        # Reset statistics\n",
    "        for h in habitats:\n",
    "            stats[h] = {}\n",
    "\n",
    "#     sleep(0.1)\n",
    "writer.close()\n",
    "print(f'-- EXECUTION FINISHED IN {run_length} HOUR(S) --')\n",
    "exit(0)\n"
   ]
  },
  {
   "cell_type": "code",
   "execution_count": null,
   "id": "5f7bd966",
   "metadata": {},
   "outputs": [],
   "source": []
  }
 ],
 "metadata": {
  "kernelspec": {
   "display_name": "Python 3",
   "language": "python",
   "name": "python3"
  },
  "language_info": {
   "codemirror_mode": {
    "name": "ipython",
    "version": 3
   },
   "file_extension": ".py",
   "mimetype": "text/x-python",
   "name": "python",
   "nbconvert_exporter": "python",
   "pygments_lexer": "ipython3",
   "version": "3.8.10"
  }
 },
 "nbformat": 4,
 "nbformat_minor": 5
}
